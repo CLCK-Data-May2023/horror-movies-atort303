{
 "cells": [
  {
   "cell_type": "code",
   "execution_count": 2,
   "metadata": {},
   "outputs": [
    {
     "name": "stdout",
     "output_type": "stream",
     "text": [
      "   Movie_ID            Movie_Title  Rating\n",
      "0       226            The Shining     8.4\n",
      "1       100               Gremlins     7.2\n",
      "2       116  The Amityville Horror     6.2\n"
     ]
    }
   ],
   "source": [
    "import sqlite3\n",
    "import pandas as pd \n",
    "\n",
    "\n",
    "\n",
    "conn = sqlite3.connect('db/movies.db')\n",
    "cursor = conn.cursor()\n",
    "\n",
    "cursor.execute('''\n",
    "    CREATE TABLE IF NOT EXISTS movies(\n",
    "    id INTEGER PRIMARY KEY,\n",
    "    name TEXT NOT NULL,\n",
    "    genre TEXT,\n",
    "    year INTEGER,\n",
    "    imdb_rating REAL\n",
    "    )\n",
    "''')\n",
    "\n",
    "\n",
    "\n",
    "query = '''\n",
    "SELECT id as Movie_ID, name as Movie_Title, imdb_rating as Rating\n",
    "FROM movies\n",
    "WHERE genre = 'horror' AND year <= 1985\n",
    "ORDER BY imdb_rating DESC\n",
    "LIMIT 3;\n",
    "'''\n",
    "df = pd.read_sql(query, conn)\n",
    "print(df)\n",
    "conn.close()"
   ]
  }
 ],
 "metadata": {
  "kernelspec": {
   "display_name": "venv",
   "language": "python",
   "name": "python3"
  },
  "language_info": {
   "codemirror_mode": {
    "name": "ipython",
    "version": 3
   },
   "file_extension": ".py",
   "mimetype": "text/x-python",
   "name": "python",
   "nbconvert_exporter": "python",
   "pygments_lexer": "ipython3",
   "version": "3.11.4"
  },
  "orig_nbformat": 4
 },
 "nbformat": 4,
 "nbformat_minor": 2
}
